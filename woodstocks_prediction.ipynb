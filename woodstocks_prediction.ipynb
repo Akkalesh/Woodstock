{
 "cells": [
  {
   "cell_type": "markdown",
   "id": "246d2e67",
   "metadata": {},
   "source": [
    "IMPORTS "
   ]
  },
  {
   "cell_type": "code",
   "execution_count": 2,
   "id": "200aaf4f",
   "metadata": {},
   "outputs": [],
   "source": [
    "import pickle\n",
    "import json\n",
    "import pandas as pd"
   ]
  },
  {
   "cell_type": "markdown",
   "id": "aae8e0c1",
   "metadata": {},
   "source": [
    "LOAD THE MODEL"
   ]
  },
  {
   "cell_type": "code",
   "execution_count": 3,
   "id": "f98b43c1",
   "metadata": {},
   "outputs": [],
   "source": [
    "with open(\"models/best_model.pkl\", 'rb') as f:\n",
    "    model = pickle.load(f)\n",
    "    \n",
    "with open(\"models/model_metadata.json\", 'r') as f:\n",
    "    metadata = json.load(f)"
   ]
  },
  {
   "cell_type": "markdown",
   "id": "76033417",
   "metadata": {},
   "source": [
    "PREDICTION FUNCTION"
   ]
  },
  {
   "cell_type": "markdown",
   "id": "8848f327",
   "metadata": {},
   "source": [
    "GET THE FEATURES FROM META DATA"
   ]
  },
  {
   "cell_type": "code",
   "execution_count": 8,
   "id": "f2e8e33d",
   "metadata": {},
   "outputs": [],
   "source": [
    "expected_features = metadata['features']"
   ]
  },
  {
   "cell_type": "code",
   "execution_count": 10,
   "id": "43617d81",
   "metadata": {},
   "outputs": [
    {
     "name": "stdout",
     "output_type": "stream",
     "text": [
      "Model expects these features: ['Date', 'Close', 'High', 'Low', 'Open', 'Volume', 'avg_sentiment', 'tweet_count', 'next_day_change', '5_day_ma', '10_day_volatility', 'daily_return', 'sentiment_lag1', 'sentiment_ma3']\n"
     ]
    }
   ],
   "source": [
    "print(\"Model expects these features:\", metadata['features'])"
   ]
  },
  {
   "cell_type": "code",
   "execution_count": null,
   "id": "38e53b81",
   "metadata": {},
   "outputs": [],
   "source": [
    "def predict(features):\n",
    "    \"\"\"\n",
    "    Predicts stock movement with feature validation\n",
    "    Args:\n",
    "        features (dict): Dictionary containing ALL required features\n",
    "    Returns:\n",
    "        dict: Prediction results\n",
    "    \"\"\"\n",
    "    # Get model's expected features (excluding metadata columns)\n",
    "    expected_features = [f for f in metadata['features'] \n",
    "                       if f not in ['Date', 'next_day_change']]\n",
    "    \n",
    "    # Validate input features\n",
    "    missing_features = set(expected_features) - set(features.keys())\n",
    "    if missing_features:\n",
    "        raise ValueError(f\"Missing required features: {missing_features}\")\n",
    "    \n",
    "    # Create DataFrame in correct feature order\n",
    "    input_df = pd.DataFrame({f: [features[f]] for f in expected_features})\n",
    "    \n",
    "    # prediction\n",
    "    pred = model.predict(input_df)[0]\n",
    "    \n",
    "    return {\n",
    "        'predicted_change': float(pred),\n",
    "        'direction': 'UP' if pred > 0 else 'DOWN',\n",
    "        'confidence': min(99, abs(pred)*100)\n",
    "    }"
   ]
  },
  {
   "cell_type": "code",
   "execution_count": 13,
   "id": "80bc41a1",
   "metadata": {},
   "outputs": [
    {
     "name": "stdout",
     "output_type": "stream",
     "text": [
      "📈 Prediction Result:\n",
      "{'predicted_change': 0.006560678593814373, 'direction': 'UP', 'confidence': 0.6560678593814373}\n"
     ]
    }
   ],
   "source": [
    "# Create complete test input\n",
    "test_features = {\n",
    "    'High': 255.50,          # Example value\n",
    "    'Low': 248.20,           # Example value\n",
    "    'Open': 252.30,          # Example value\n",
    "    'Close': 250.00,         # Example value\n",
    "    'Volume': 5000000,       # Example value\n",
    "    'daily_return': 0.015,   # Example value\n",
    "    'avg_sentiment': 0.15,\n",
    "    'tweet_count': 85,\n",
    "    '5_day_ma': 250.50,\n",
    "    '10_day_volatility': 0.02,\n",
    "    'sentiment_lag1': 0.12,\n",
    "    'sentiment_ma3': 0.14\n",
    "}\n",
    "\n",
    "\n",
    "test_features = {k: test_features[k] for k in expected_features}\n",
    "\n",
    "# Make prediction\n",
    "try:\n",
    "    prediction = predict(test_features)\n",
    "    print(\"📈 Prediction Result:\")\n",
    "    print(prediction)\n",
    "except ValueError as e:\n",
    "    print(f\"❌ Error: {str(e)}\")"
   ]
  }
 ],
 "metadata": {
  "kernelspec": {
   "display_name": "base",
   "language": "python",
   "name": "python3"
  },
  "language_info": {
   "codemirror_mode": {
    "name": "ipython",
    "version": 3
   },
   "file_extension": ".py",
   "mimetype": "text/x-python",
   "name": "python",
   "nbconvert_exporter": "python",
   "pygments_lexer": "ipython3",
   "version": "3.11.7"
  }
 },
 "nbformat": 4,
 "nbformat_minor": 5
}
