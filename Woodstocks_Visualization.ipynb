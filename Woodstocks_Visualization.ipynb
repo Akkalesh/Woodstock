{
 "cells": [
  {
   "cell_type": "code",
   "execution_count": 9,
   "id": "0cd40fd3",
   "metadata": {},
   "outputs": [
    {
     "name": "stdout",
     "output_type": "stream",
     "text": [
      "Requirement already satisfied: plotly in c:\\users\\dell\\anaconda3\\lib\\site-packages (5.9.0)\n",
      "Requirement already satisfied: pandas in c:\\users\\dell\\anaconda3\\lib\\site-packages (2.1.4)\n",
      "Requirement already satisfied: numpy in c:\\users\\dell\\anaconda3\\lib\\site-packages (1.26.4)\n",
      "Requirement already satisfied: seaborn in c:\\users\\dell\\anaconda3\\lib\\site-packages (0.12.2)\n",
      "Requirement already satisfied: matplotlib in c:\\users\\dell\\anaconda3\\lib\\site-packages (3.8.0)\n",
      "Requirement already satisfied: tenacity>=6.2.0 in c:\\users\\dell\\anaconda3\\lib\\site-packages (from plotly) (8.2.2)\n",
      "Requirement already satisfied: python-dateutil>=2.8.2 in c:\\users\\dell\\anaconda3\\lib\\site-packages (from pandas) (2.8.2)\n",
      "Requirement already satisfied: pytz>=2020.1 in c:\\users\\dell\\anaconda3\\lib\\site-packages (from pandas) (2023.3.post1)\n",
      "Requirement already satisfied: tzdata>=2022.1 in c:\\users\\dell\\anaconda3\\lib\\site-packages (from pandas) (2023.3)\n",
      "Requirement already satisfied: contourpy>=1.0.1 in c:\\users\\dell\\anaconda3\\lib\\site-packages (from matplotlib) (1.2.0)\n",
      "Requirement already satisfied: cycler>=0.10 in c:\\users\\dell\\anaconda3\\lib\\site-packages (from matplotlib) (0.11.0)\n",
      "Requirement already satisfied: fonttools>=4.22.0 in c:\\users\\dell\\anaconda3\\lib\\site-packages (from matplotlib) (4.25.0)\n",
      "Requirement already satisfied: kiwisolver>=1.0.1 in c:\\users\\dell\\anaconda3\\lib\\site-packages (from matplotlib) (1.4.4)\n",
      "Requirement already satisfied: packaging>=20.0 in c:\\users\\dell\\anaconda3\\lib\\site-packages (from matplotlib) (23.1)\n",
      "Requirement already satisfied: pillow>=6.2.0 in c:\\users\\dell\\anaconda3\\lib\\site-packages (from matplotlib) (10.2.0)\n",
      "Requirement already satisfied: pyparsing>=2.3.1 in c:\\users\\dell\\anaconda3\\lib\\site-packages (from matplotlib) (3.0.9)\n",
      "Requirement already satisfied: six>=1.5 in c:\\users\\dell\\anaconda3\\lib\\site-packages (from python-dateutil>=2.8.2->pandas) (1.16.0)\n",
      "Note: you may need to restart the kernel to use updated packages.\n"
     ]
    }
   ],
   "source": [
    "pip install plotly pandas numpy seaborn matplotlib"
   ]
  },
  {
   "cell_type": "code",
   "execution_count": 3,
   "id": "24e05e5c",
   "metadata": {},
   "outputs": [
    {
     "name": "stderr",
     "output_type": "stream",
     "text": [
      "c:\\Users\\DELL\\anaconda3\\Lib\\site-packages\\_plotly_utils\\basevalidators.py:106: FutureWarning:\n",
      "\n",
      "The behavior of DatetimeProperties.to_pydatetime is deprecated, in a future version this will return a Series containing python datetime objects instead of an ndarray. To retain the old behavior, call `np.array` on the result\n",
      "\n"
     ]
    },
    {
     "data": {
      "application/vnd.plotly.v1+json": {
       "config": {
        "plotlyServerURL": "https://plot.ly"
       },
       "data": [
        {
         "close": [
          102.51618571466213,
          103.14183622163739,
          103.28355157852694,
          102.56358753293543,
          104.22880892140077,
          101.84824185736652,
          101.11544033961091,
          102.99413395596342,
          105.85865053301683,
          104.42565598159423,
          104.53833981819811,
          104.77523211913208,
          105.98555560043452,
          105.00721978380449,
          103.70371070626176,
          104.05841187976158,
          102.15342099033751,
          104.02249781351372,
          102.2692595086194,
          103.94960300359499,
          98.84627207230795,
          97.27239786370703,
          98.02328495222791,
          99.73081594453909,
          102.63124136802661,
          104.70496196711427,
          102.16957616935548,
          103.02525834457816,
          101.23198619767429,
          101.18453439418015
         ],
         "high": [
          103.03275947251086,
          103.32698962110706,
          104.93859033002929,
          103.58508699390076,
          104.33909601172479,
          102.90149587738598,
          102.4492407890346,
          104.96386674009352,
          106.54529035815764,
          105.64032640808695,
          106.11992586541751,
          106.10240530962561,
          107.01130047985593,
          105.70330777461675,
          105.30114290219045,
          105.7598004093348,
          103.73239617606217,
          105.15033469457524,
          103.50211992352006,
          103.87607982409504,
          101.0959286489903,
          98.27861903823192,
          100.39546772178306,
          101.52685012504989,
          102.9745584549071,
          105.75881550200138,
          103.8391707847712,
          103.81301275031214,
          101.20851704406682,
          101.82030734067379
         ],
         "low": [
          100.38439058519853,
          101.39777217050079,
          103.03086767266606,
          101.85527102012361,
          102.05268302445937,
          100.05337462151053,
          100.00169328254317,
          102.43563063044627,
          104.65019075395693,
          103.70035624559416,
          102.78247102707378,
          103.12531052558931,
          103.67174529204806,
          103.1627995422135,
          103.73049118896233,
          102.83944268452275,
          100.60079798498523,
          103.00079946557076,
          101.6518125538056,
          102.35659861409009,
          97.35194825028492,
          96.30362977004029,
          97.27852505676373,
          99.11918583610522,
          101.64559303768603,
          104.08115828212284,
          101.09037121862941,
          100.66692627423738,
          98.8556619897625,
          99.80626235866426
         ],
         "name": "Price",
         "open": [
          101.76261647681214,
          102.70129209855953,
          104.30423596325589,
          102.86399942833908,
          103.65377460610613,
          102.01142888662079,
          101.93204415440074,
          103.14652006331197,
          105.67862225590216,
          104.497826868137,
          104.67853782277297,
          104.186273783997,
          105.40290724044168,
          105.11291956479252,
          104.32893188378846,
          104.12391980491967,
          102.13370299246644,
          103.72682305597488,
          102.77793420964385,
          103.2956904710602,
          99.15820100004395,
          97.57377551571945,
          98.442679325149,
          99.66995614714554,
          102.41809423316829,
          104.60242592032452,
          102.137934244594,
          102.04258349390359,
          100.48756431122692,
          101.19961732339064
         ],
         "type": "candlestick",
         "x": [
          "2025-03-21T07:19:29.940711",
          "2025-03-22T07:19:29.940711",
          "2025-03-23T07:19:29.940711",
          "2025-03-24T07:19:29.940711",
          "2025-03-25T07:19:29.940711",
          "2025-03-26T07:19:29.940711",
          "2025-03-27T07:19:29.940711",
          "2025-03-28T07:19:29.940711",
          "2025-03-29T07:19:29.940711",
          "2025-03-30T07:19:29.940711",
          "2025-03-31T07:19:29.940711",
          "2025-04-01T07:19:29.940711",
          "2025-04-02T07:19:29.940711",
          "2025-04-03T07:19:29.940711",
          "2025-04-04T07:19:29.940711",
          "2025-04-05T07:19:29.940711",
          "2025-04-06T07:19:29.940711",
          "2025-04-07T07:19:29.940711",
          "2025-04-08T07:19:29.940711",
          "2025-04-09T07:19:29.940711",
          "2025-04-10T07:19:29.940711",
          "2025-04-11T07:19:29.940711",
          "2025-04-12T07:19:29.940711",
          "2025-04-13T07:19:29.940711",
          "2025-04-14T07:19:29.940711",
          "2025-04-15T07:19:29.940711",
          "2025-04-16T07:19:29.940711",
          "2025-04-17T07:19:29.940711",
          "2025-04-18T07:19:29.940711",
          "2025-04-19T07:19:29.940711"
         ],
         "xaxis": "x",
         "yaxis": "y"
        },
        {
         "marker": {
          "color": [
           "green",
           "red",
           "red",
           "red",
           "green",
           "green",
           "red",
           "green",
           "red",
           "green",
           "red",
           "red",
           "red",
           "green",
           "green",
           "red",
           "red",
           "red",
           "green",
           "red",
           "green",
           "red",
           "green",
           "red",
           "green",
           "green",
           "green",
           "red",
           "green",
           "red"
          ],
          "line": {
           "color": "DarkSlateGrey",
           "width": 1
          },
          "size": 8
         },
         "mode": "markers",
         "name": "Prediction",
         "type": "scatter",
         "x": [
          "2025-03-21T07:19:29.940711",
          "2025-03-22T07:19:29.940711",
          "2025-03-23T07:19:29.940711",
          "2025-03-24T07:19:29.940711",
          "2025-03-25T07:19:29.940711",
          "2025-03-26T07:19:29.940711",
          "2025-03-27T07:19:29.940711",
          "2025-03-28T07:19:29.940711",
          "2025-03-29T07:19:29.940711",
          "2025-03-30T07:19:29.940711",
          "2025-03-31T07:19:29.940711",
          "2025-04-01T07:19:29.940711",
          "2025-04-02T07:19:29.940711",
          "2025-04-03T07:19:29.940711",
          "2025-04-04T07:19:29.940711",
          "2025-04-05T07:19:29.940711",
          "2025-04-06T07:19:29.940711",
          "2025-04-07T07:19:29.940711",
          "2025-04-08T07:19:29.940711",
          "2025-04-09T07:19:29.940711",
          "2025-04-10T07:19:29.940711",
          "2025-04-11T07:19:29.940711",
          "2025-04-12T07:19:29.940711",
          "2025-04-13T07:19:29.940711",
          "2025-04-14T07:19:29.940711",
          "2025-04-15T07:19:29.940711",
          "2025-04-16T07:19:29.940711",
          "2025-04-17T07:19:29.940711",
          "2025-04-18T07:19:29.940711",
          "2025-04-19T07:19:29.940711"
         ],
         "xaxis": "x",
         "y": [
          102.28922870812667,
          103.08755787984985,
          103.47101962059722,
          104.16248160754233,
          103.13754013654378,
          101.77586447390269,
          101.84121283586045,
          103.0654135990891,
          105.1609123438203,
          104.95524886017444,
          105.71231500532853,
          102.73939025286815,
          104.18834766542918,
          105.93825953286951,
          105.46904804233394,
          104.79992113641765,
          103.75545949999609,
          105.00829955864893,
          102.06931584437031,
          102.85955238779128,
          98.12668181670965,
          99.37902350291789,
          98.53646939757124,
          98.58424711153347,
          103.63101045045033,
          103.02444965305324,
          102.67531496027347,
          100.70930621846989,
          100.37744042692195,
          101.53129541377163
         ],
         "yaxis": "y"
        },
        {
         "marker": {
          "color": "rgba(100, 100, 255, 0.6)"
         },
         "name": "Volume",
         "type": "bar",
         "x": [
          "2025-03-21T07:19:29.940711",
          "2025-03-22T07:19:29.940711",
          "2025-03-23T07:19:29.940711",
          "2025-03-24T07:19:29.940711",
          "2025-03-25T07:19:29.940711",
          "2025-03-26T07:19:29.940711",
          "2025-03-27T07:19:29.940711",
          "2025-03-28T07:19:29.940711",
          "2025-03-29T07:19:29.940711",
          "2025-03-30T07:19:29.940711",
          "2025-03-31T07:19:29.940711",
          "2025-04-01T07:19:29.940711",
          "2025-04-02T07:19:29.940711",
          "2025-04-03T07:19:29.940711",
          "2025-04-04T07:19:29.940711",
          "2025-04-05T07:19:29.940711",
          "2025-04-06T07:19:29.940711",
          "2025-04-07T07:19:29.940711",
          "2025-04-08T07:19:29.940711",
          "2025-04-09T07:19:29.940711",
          "2025-04-10T07:19:29.940711",
          "2025-04-11T07:19:29.940711",
          "2025-04-12T07:19:29.940711",
          "2025-04-13T07:19:29.940711",
          "2025-04-14T07:19:29.940711",
          "2025-04-15T07:19:29.940711",
          "2025-04-16T07:19:29.940711",
          "2025-04-17T07:19:29.940711",
          "2025-04-18T07:19:29.940711",
          "2025-04-19T07:19:29.940711"
         ],
         "xaxis": "x2",
         "y": [
          785814,
          106242,
          963919,
          188111,
          838974,
          124225,
          744134,
          325015,
          161839,
          803118,
          646786,
          983738,
          368676,
          391247,
          790590,
          597101,
          486874,
          785035,
          446848,
          798470,
          221187,
          439447,
          459684,
          233296,
          787437,
          786383,
          247893,
          656697,
          116171,
          281641
         ],
         "yaxis": "y2"
        }
       ],
       "layout": {
        "height": 800,
        "hovermode": "x unified",
        "template": {
         "data": {
          "bar": [
           {
            "error_x": {
             "color": "#2a3f5f"
            },
            "error_y": {
             "color": "#2a3f5f"
            },
            "marker": {
             "line": {
              "color": "white",
              "width": 0.5
             },
             "pattern": {
              "fillmode": "overlay",
              "size": 10,
              "solidity": 0.2
             }
            },
            "type": "bar"
           }
          ],
          "barpolar": [
           {
            "marker": {
             "line": {
              "color": "white",
              "width": 0.5
             },
             "pattern": {
              "fillmode": "overlay",
              "size": 10,
              "solidity": 0.2
             }
            },
            "type": "barpolar"
           }
          ],
          "carpet": [
           {
            "aaxis": {
             "endlinecolor": "#2a3f5f",
             "gridcolor": "#C8D4E3",
             "linecolor": "#C8D4E3",
             "minorgridcolor": "#C8D4E3",
             "startlinecolor": "#2a3f5f"
            },
            "baxis": {
             "endlinecolor": "#2a3f5f",
             "gridcolor": "#C8D4E3",
             "linecolor": "#C8D4E3",
             "minorgridcolor": "#C8D4E3",
             "startlinecolor": "#2a3f5f"
            },
            "type": "carpet"
           }
          ],
          "choropleth": [
           {
            "colorbar": {
             "outlinewidth": 0,
             "ticks": ""
            },
            "type": "choropleth"
           }
          ],
          "contour": [
           {
            "colorbar": {
             "outlinewidth": 0,
             "ticks": ""
            },
            "colorscale": [
             [
              0,
              "#0d0887"
             ],
             [
              0.1111111111111111,
              "#46039f"
             ],
             [
              0.2222222222222222,
              "#7201a8"
             ],
             [
              0.3333333333333333,
              "#9c179e"
             ],
             [
              0.4444444444444444,
              "#bd3786"
             ],
             [
              0.5555555555555556,
              "#d8576b"
             ],
             [
              0.6666666666666666,
              "#ed7953"
             ],
             [
              0.7777777777777778,
              "#fb9f3a"
             ],
             [
              0.8888888888888888,
              "#fdca26"
             ],
             [
              1,
              "#f0f921"
             ]
            ],
            "type": "contour"
           }
          ],
          "contourcarpet": [
           {
            "colorbar": {
             "outlinewidth": 0,
             "ticks": ""
            },
            "type": "contourcarpet"
           }
          ],
          "heatmap": [
           {
            "colorbar": {
             "outlinewidth": 0,
             "ticks": ""
            },
            "colorscale": [
             [
              0,
              "#0d0887"
             ],
             [
              0.1111111111111111,
              "#46039f"
             ],
             [
              0.2222222222222222,
              "#7201a8"
             ],
             [
              0.3333333333333333,
              "#9c179e"
             ],
             [
              0.4444444444444444,
              "#bd3786"
             ],
             [
              0.5555555555555556,
              "#d8576b"
             ],
             [
              0.6666666666666666,
              "#ed7953"
             ],
             [
              0.7777777777777778,
              "#fb9f3a"
             ],
             [
              0.8888888888888888,
              "#fdca26"
             ],
             [
              1,
              "#f0f921"
             ]
            ],
            "type": "heatmap"
           }
          ],
          "heatmapgl": [
           {
            "colorbar": {
             "outlinewidth": 0,
             "ticks": ""
            },
            "colorscale": [
             [
              0,
              "#0d0887"
             ],
             [
              0.1111111111111111,
              "#46039f"
             ],
             [
              0.2222222222222222,
              "#7201a8"
             ],
             [
              0.3333333333333333,
              "#9c179e"
             ],
             [
              0.4444444444444444,
              "#bd3786"
             ],
             [
              0.5555555555555556,
              "#d8576b"
             ],
             [
              0.6666666666666666,
              "#ed7953"
             ],
             [
              0.7777777777777778,
              "#fb9f3a"
             ],
             [
              0.8888888888888888,
              "#fdca26"
             ],
             [
              1,
              "#f0f921"
             ]
            ],
            "type": "heatmapgl"
           }
          ],
          "histogram": [
           {
            "marker": {
             "pattern": {
              "fillmode": "overlay",
              "size": 10,
              "solidity": 0.2
             }
            },
            "type": "histogram"
           }
          ],
          "histogram2d": [
           {
            "colorbar": {
             "outlinewidth": 0,
             "ticks": ""
            },
            "colorscale": [
             [
              0,
              "#0d0887"
             ],
             [
              0.1111111111111111,
              "#46039f"
             ],
             [
              0.2222222222222222,
              "#7201a8"
             ],
             [
              0.3333333333333333,
              "#9c179e"
             ],
             [
              0.4444444444444444,
              "#bd3786"
             ],
             [
              0.5555555555555556,
              "#d8576b"
             ],
             [
              0.6666666666666666,
              "#ed7953"
             ],
             [
              0.7777777777777778,
              "#fb9f3a"
             ],
             [
              0.8888888888888888,
              "#fdca26"
             ],
             [
              1,
              "#f0f921"
             ]
            ],
            "type": "histogram2d"
           }
          ],
          "histogram2dcontour": [
           {
            "colorbar": {
             "outlinewidth": 0,
             "ticks": ""
            },
            "colorscale": [
             [
              0,
              "#0d0887"
             ],
             [
              0.1111111111111111,
              "#46039f"
             ],
             [
              0.2222222222222222,
              "#7201a8"
             ],
             [
              0.3333333333333333,
              "#9c179e"
             ],
             [
              0.4444444444444444,
              "#bd3786"
             ],
             [
              0.5555555555555556,
              "#d8576b"
             ],
             [
              0.6666666666666666,
              "#ed7953"
             ],
             [
              0.7777777777777778,
              "#fb9f3a"
             ],
             [
              0.8888888888888888,
              "#fdca26"
             ],
             [
              1,
              "#f0f921"
             ]
            ],
            "type": "histogram2dcontour"
           }
          ],
          "mesh3d": [
           {
            "colorbar": {
             "outlinewidth": 0,
             "ticks": ""
            },
            "type": "mesh3d"
           }
          ],
          "parcoords": [
           {
            "line": {
             "colorbar": {
              "outlinewidth": 0,
              "ticks": ""
             }
            },
            "type": "parcoords"
           }
          ],
          "pie": [
           {
            "automargin": true,
            "type": "pie"
           }
          ],
          "scatter": [
           {
            "fillpattern": {
             "fillmode": "overlay",
             "size": 10,
             "solidity": 0.2
            },
            "type": "scatter"
           }
          ],
          "scatter3d": [
           {
            "line": {
             "colorbar": {
              "outlinewidth": 0,
              "ticks": ""
             }
            },
            "marker": {
             "colorbar": {
              "outlinewidth": 0,
              "ticks": ""
             }
            },
            "type": "scatter3d"
           }
          ],
          "scattercarpet": [
           {
            "marker": {
             "colorbar": {
              "outlinewidth": 0,
              "ticks": ""
             }
            },
            "type": "scattercarpet"
           }
          ],
          "scattergeo": [
           {
            "marker": {
             "colorbar": {
              "outlinewidth": 0,
              "ticks": ""
             }
            },
            "type": "scattergeo"
           }
          ],
          "scattergl": [
           {
            "marker": {
             "colorbar": {
              "outlinewidth": 0,
              "ticks": ""
             }
            },
            "type": "scattergl"
           }
          ],
          "scattermapbox": [
           {
            "marker": {
             "colorbar": {
              "outlinewidth": 0,
              "ticks": ""
             }
            },
            "type": "scattermapbox"
           }
          ],
          "scatterpolar": [
           {
            "marker": {
             "colorbar": {
              "outlinewidth": 0,
              "ticks": ""
             }
            },
            "type": "scatterpolar"
           }
          ],
          "scatterpolargl": [
           {
            "marker": {
             "colorbar": {
              "outlinewidth": 0,
              "ticks": ""
             }
            },
            "type": "scatterpolargl"
           }
          ],
          "scatterternary": [
           {
            "marker": {
             "colorbar": {
              "outlinewidth": 0,
              "ticks": ""
             }
            },
            "type": "scatterternary"
           }
          ],
          "surface": [
           {
            "colorbar": {
             "outlinewidth": 0,
             "ticks": ""
            },
            "colorscale": [
             [
              0,
              "#0d0887"
             ],
             [
              0.1111111111111111,
              "#46039f"
             ],
             [
              0.2222222222222222,
              "#7201a8"
             ],
             [
              0.3333333333333333,
              "#9c179e"
             ],
             [
              0.4444444444444444,
              "#bd3786"
             ],
             [
              0.5555555555555556,
              "#d8576b"
             ],
             [
              0.6666666666666666,
              "#ed7953"
             ],
             [
              0.7777777777777778,
              "#fb9f3a"
             ],
             [
              0.8888888888888888,
              "#fdca26"
             ],
             [
              1,
              "#f0f921"
             ]
            ],
            "type": "surface"
           }
          ],
          "table": [
           {
            "cells": {
             "fill": {
              "color": "#EBF0F8"
             },
             "line": {
              "color": "white"
             }
            },
            "header": {
             "fill": {
              "color": "#C8D4E3"
             },
             "line": {
              "color": "white"
             }
            },
            "type": "table"
           }
          ]
         },
         "layout": {
          "annotationdefaults": {
           "arrowcolor": "#2a3f5f",
           "arrowhead": 0,
           "arrowwidth": 1
          },
          "autotypenumbers": "strict",
          "coloraxis": {
           "colorbar": {
            "outlinewidth": 0,
            "ticks": ""
           }
          },
          "colorscale": {
           "diverging": [
            [
             0,
             "#8e0152"
            ],
            [
             0.1,
             "#c51b7d"
            ],
            [
             0.2,
             "#de77ae"
            ],
            [
             0.3,
             "#f1b6da"
            ],
            [
             0.4,
             "#fde0ef"
            ],
            [
             0.5,
             "#f7f7f7"
            ],
            [
             0.6,
             "#e6f5d0"
            ],
            [
             0.7,
             "#b8e186"
            ],
            [
             0.8,
             "#7fbc41"
            ],
            [
             0.9,
             "#4d9221"
            ],
            [
             1,
             "#276419"
            ]
           ],
           "sequential": [
            [
             0,
             "#0d0887"
            ],
            [
             0.1111111111111111,
             "#46039f"
            ],
            [
             0.2222222222222222,
             "#7201a8"
            ],
            [
             0.3333333333333333,
             "#9c179e"
            ],
            [
             0.4444444444444444,
             "#bd3786"
            ],
            [
             0.5555555555555556,
             "#d8576b"
            ],
            [
             0.6666666666666666,
             "#ed7953"
            ],
            [
             0.7777777777777778,
             "#fb9f3a"
            ],
            [
             0.8888888888888888,
             "#fdca26"
            ],
            [
             1,
             "#f0f921"
            ]
           ],
           "sequentialminus": [
            [
             0,
             "#0d0887"
            ],
            [
             0.1111111111111111,
             "#46039f"
            ],
            [
             0.2222222222222222,
             "#7201a8"
            ],
            [
             0.3333333333333333,
             "#9c179e"
            ],
            [
             0.4444444444444444,
             "#bd3786"
            ],
            [
             0.5555555555555556,
             "#d8576b"
            ],
            [
             0.6666666666666666,
             "#ed7953"
            ],
            [
             0.7777777777777778,
             "#fb9f3a"
            ],
            [
             0.8888888888888888,
             "#fdca26"
            ],
            [
             1,
             "#f0f921"
            ]
           ]
          },
          "colorway": [
           "#636efa",
           "#EF553B",
           "#00cc96",
           "#ab63fa",
           "#FFA15A",
           "#19d3f3",
           "#FF6692",
           "#B6E880",
           "#FF97FF",
           "#FECB52"
          ],
          "font": {
           "color": "#2a3f5f"
          },
          "geo": {
           "bgcolor": "white",
           "lakecolor": "white",
           "landcolor": "white",
           "showlakes": true,
           "showland": true,
           "subunitcolor": "#C8D4E3"
          },
          "hoverlabel": {
           "align": "left"
          },
          "hovermode": "closest",
          "mapbox": {
           "style": "light"
          },
          "paper_bgcolor": "white",
          "plot_bgcolor": "white",
          "polar": {
           "angularaxis": {
            "gridcolor": "#EBF0F8",
            "linecolor": "#EBF0F8",
            "ticks": ""
           },
           "bgcolor": "white",
           "radialaxis": {
            "gridcolor": "#EBF0F8",
            "linecolor": "#EBF0F8",
            "ticks": ""
           }
          },
          "scene": {
           "xaxis": {
            "backgroundcolor": "white",
            "gridcolor": "#DFE8F3",
            "gridwidth": 2,
            "linecolor": "#EBF0F8",
            "showbackground": true,
            "ticks": "",
            "zerolinecolor": "#EBF0F8"
           },
           "yaxis": {
            "backgroundcolor": "white",
            "gridcolor": "#DFE8F3",
            "gridwidth": 2,
            "linecolor": "#EBF0F8",
            "showbackground": true,
            "ticks": "",
            "zerolinecolor": "#EBF0F8"
           },
           "zaxis": {
            "backgroundcolor": "white",
            "gridcolor": "#DFE8F3",
            "gridwidth": 2,
            "linecolor": "#EBF0F8",
            "showbackground": true,
            "ticks": "",
            "zerolinecolor": "#EBF0F8"
           }
          },
          "shapedefaults": {
           "line": {
            "color": "#2a3f5f"
           }
          },
          "ternary": {
           "aaxis": {
            "gridcolor": "#DFE8F3",
            "linecolor": "#A2B1C6",
            "ticks": ""
           },
           "baxis": {
            "gridcolor": "#DFE8F3",
            "linecolor": "#A2B1C6",
            "ticks": ""
           },
           "bgcolor": "white",
           "caxis": {
            "gridcolor": "#DFE8F3",
            "linecolor": "#A2B1C6",
            "ticks": ""
           }
          },
          "title": {
           "x": 0.05
          },
          "xaxis": {
           "automargin": true,
           "gridcolor": "#EBF0F8",
           "linecolor": "#EBF0F8",
           "ticks": "",
           "title": {
            "standoff": 15
           },
           "zerolinecolor": "#EBF0F8",
           "zerolinewidth": 2
          },
          "yaxis": {
           "automargin": true,
           "gridcolor": "#EBF0F8",
           "linecolor": "#EBF0F8",
           "ticks": "",
           "title": {
            "standoff": 15
           },
           "zerolinecolor": "#EBF0F8",
           "zerolinewidth": 2
          }
         }
        },
        "title": {
         "text": "Stock Price with Predictions"
        },
        "xaxis": {
         "anchor": "y",
         "domain": [
          0,
          1
         ],
         "matches": "x2",
         "rangeslider": {
          "visible": false
         },
         "showticklabels": false
        },
        "xaxis2": {
         "anchor": "y2",
         "domain": [
          0,
          1
         ]
        },
        "yaxis": {
         "anchor": "x",
         "domain": [
          0.314,
          1
         ],
         "title": {
          "text": "Price"
         }
        },
        "yaxis2": {
         "anchor": "x2",
         "domain": [
          0,
          0.294
         ],
         "title": {
          "text": "Volume"
         }
        }
       }
      }
     },
     "metadata": {},
     "output_type": "display_data"
    }
   ],
   "source": [
    "import plotly.graph_objects as go\n",
    "from plotly.subplots import make_subplots\n",
    "import pandas as pd\n",
    "import numpy as np\n",
    "\n",
    "# Generate sample stock data if you don't have your own\n",
    "def generate_sample_data(days=30):\n",
    "    dates = pd.date_range(end=pd.Timestamp.today(), periods=days)\n",
    "    base_prices = np.cumsum(np.random.normal(0, 2, days)) + 100\n",
    "    data = {\n",
    "        'Date': dates,\n",
    "        'Open': base_prices,\n",
    "        'High': base_prices + np.random.uniform(0.5, 2, days),\n",
    "        'Low': base_prices - np.random.uniform(0.5, 2, days),\n",
    "        'Close': base_prices + np.random.normal(0, 0.5, days),\n",
    "        'Volume': np.random.randint(100000, 1000000, days),\n",
    "        'predicted_price': base_prices + np.random.normal(0, 1, days),\n",
    "        'direction': np.random.choice([1, -1], days)\n",
    "    }\n",
    "    return pd.DataFrame(data)\n",
    "\n",
    "# Create the visualization function\n",
    "def plot_candlestick_with_predictions(df):\n",
    "    # Create subplots\n",
    "    fig = make_subplots(rows=2, cols=1, \n",
    "                       shared_xaxes=True, \n",
    "                       vertical_spacing=0.02,\n",
    "                       row_heights=[0.7, 0.3])\n",
    "    \n",
    "    # Candlestick chart\n",
    "    fig.add_trace(go.Candlestick(\n",
    "        x=df['Date'],\n",
    "        open=df['Open'],\n",
    "        high=df['High'],\n",
    "        low=df['Low'],\n",
    "        close=df['Close'],\n",
    "        name='Price'\n",
    "    ), row=1, col=1)\n",
    "    \n",
    "    # Add predictions as markers\n",
    "    fig.add_trace(go.Scatter(\n",
    "        x=df['Date'],\n",
    "        y=df['predicted_price'],\n",
    "        mode='markers',\n",
    "        marker=dict(\n",
    "            color=['green' if x > 0 else 'red' for x in df['direction']],\n",
    "            size=8,\n",
    "            line=dict(width=1, color='DarkSlateGrey')\n",
    "        ),\n",
    "        name='Prediction'\n",
    "    ), row=1, col=1)\n",
    "    \n",
    "    # Volume bar chart\n",
    "    fig.add_trace(go.Bar(\n",
    "        x=df['Date'],\n",
    "        y=df['Volume'],\n",
    "        name='Volume',\n",
    "        marker_color='rgba(100, 100, 255, 0.6)'\n",
    "    ), row=2, col=1)\n",
    "    \n",
    "    # Update layout\n",
    "    fig.update_layout(\n",
    "        title='Stock Price with Predictions',\n",
    "        xaxis_rangeslider_visible=False,\n",
    "        hovermode='x unified',\n",
    "        height=800,\n",
    "        template='plotly_white'\n",
    "    )\n",
    "    \n",
    "    # Update y-axes titles\n",
    "    fig.update_yaxes(title_text=\"Price\", row=1, col=1)\n",
    "    fig.update_yaxes(title_text=\"Volume\", row=2, col=1)\n",
    "    \n",
    "    # Show the figure\n",
    "    fig.show()\n",
    "\n",
    "# Generate and plot sample data\n",
    "df = generate_sample_data()\n",
    "plot_candlestick_with_predictions(df)"
   ]
  },
  {
   "cell_type": "code",
   "execution_count": null,
   "id": "d9d44cba",
   "metadata": {},
   "outputs": [],
   "source": [
    "!pip install plotly pandas numpy kaleido"
   ]
  },
  {
   "cell_type": "code",
   "execution_count": null,
   "id": "4d1ec763",
   "metadata": {},
   "outputs": [],
   "source": [
    "# %% [markdown]\n",
    "# # Stock Prediction Visualizations\n",
    "# Interactive visualizations for your Woodstocks prediction system\n",
    "\n",
    "# %%\n",
    "# Install required packages (run once)\n",
    "\n",
    "\n",
    "# %%\n",
    "import plotly.graph_objects as go\n",
    "from plotly.subplots import make_subplots\n",
    "import pandas as pd\n",
    "import numpy as np\n",
    "from IPython.display import display, HTML\n",
    "\n",
    "# %% [markdown]\n",
    "# ## 1. Load Your Data\n",
    "# Replace this with your actual data loading code\n",
    "\n",
    "# %%\n",
    "# Sample data generation - REPLACE WITH YOUR ACTUAL DATA LOADING\n",
    "def load_sample_data():\n",
    "    dates = pd.date_range(end=pd.Timestamp.today(), periods=30)\n",
    "    base_prices = np.cumsum(np.random.normal(0, 2, 30)) + 100\n",
    "    return pd.DataFrame({\n",
    "        'Date': dates,\n",
    "        'Open': base_prices,\n",
    "        'High': base_prices + np.random.uniform(0.5, 2, 30),\n",
    "        'Low': base_prices - np.random.uniform(0.5, 2, 30),\n",
    "        'Close': base_prices + np.random.normal(0, 0.5, 30),\n",
    "        'Volume': np.random.randint(100000, 1000000, 30),\n",
    "        'Prediction': base_prices + np.random.normal(0, 1, 30),\n",
    "        'Direction': np.where(np.random.random(30) > 0.5, 1, -1),\n",
    "        'Sentiment': np.random.normal(0, 0.1, 30)\n",
    "    })\n",
    "\n",
    "df = load_sample_data()\n",
    "display(df.head())\n",
    "\n",
    "# %% [markdown]\n",
    "# ## 2. Interactive Candlestick Chart with Predictions\n",
    "\n",
    "# %%\n",
    "def plot_candlestick_with_predictions(data):\n",
    "    fig = make_subplots(rows=2, cols=1, shared_xaxes=True,\n",
    "                       vertical_spacing=0.05, row_heights=[0.7, 0.3])\n",
    "    \n",
    "    # Candlestick\n",
    "    fig.add_trace(go.Candlestick(\n",
    "        x=data['Date'],\n",
    "        open=data['Open'],\n",
    "        high=data['High'],\n",
    "        low=data['Low'],\n",
    "        close=data['Close'],\n",
    "        name='Price'\n",
    "    ), row=1, col=1)\n",
    "    \n",
    "    # Predictions\n",
    "    fig.add_trace(go.Scatter(\n",
    "        x=data['Date'],\n",
    "        y=data['Prediction'],\n",
    "        mode='markers',\n",
    "        marker=dict(\n",
    "            color=['green' if d > 0 else 'red' for d in data['Direction']],\n",
    "            size=10,\n",
    "            line=dict(width=1, color='black')\n",
    "        ),\n",
    "        name='Predictions',\n",
    "        hovertext=[f\"Pred: {p:.2f}\" for p in data['Prediction']]\n",
    "    ), row=1, col=1)\n",
    "    \n",
    "    # Volume\n",
    "    fig.add_trace(go.Bar(\n",
    "        x=data['Date'],\n",
    "        y=data['Volume'],\n",
    "        name='Volume',\n",
    "        marker_color='rgba(100, 150, 200, 0.6)'\n",
    "    ), row=2, col=1)\n",
    "    \n",
    "    fig.update_layout(\n",
    "        title='Stock Price with Predictions',\n",
    "        height=700,\n",
    "        xaxis_rangeslider_visible=False,\n",
    "        hovermode='x unified'\n",
    "    )\n",
    "    \n",
    "    fig.show()\n",
    "\n",
    "plot_candlestick_with_predictions(df)\n",
    "\n",
    "# %% [markdown]\n",
    "# ## 3. Sentiment vs Price Analysis\n",
    "\n",
    "# %%\n",
    "def plot_sentiment_analysis(data):\n",
    "    fig = make_subplots(specs=[[{\"secondary_y\": True}]])\n",
    "    \n",
    "    # Price line\n",
    "    fig.add_trace(\n",
    "        go.Scatter(\n",
    "            x=data['Date'],\n",
    "            y=data['Close'],\n",
    "            name='Price',\n",
    "            line=dict(color='blue')\n",
    "        ),\n",
    "        secondary_y=False\n",
    "    )\n",
    "    \n",
    "    # Sentiment bars\n",
    "    fig.add_trace(\n",
    "        go.Bar(\n",
    "            x=data['Date'],\n",
    "            y=data['Sentiment'],\n",
    "            name='Sentiment',\n",
    "            marker_color=['green' if x > 0 else 'red' for x in data['Sentiment']],\n",
    "            opacity=0.6\n",
    "        ),\n",
    "        secondary_y=True\n",
    "    )\n",
    "    \n",
    "    fig.update_layout(\n",
    "        title='Price vs Sentiment Analysis',\n",
    "        height=500\n",
    "    )\n",
    "    \n",
    "    fig.show()\n",
    "\n",
    "plot_sentiment_analysis(df)\n",
    "\n",
    "# %% [markdown]\n",
    "# ## 4. Prediction Confidence Distribution\n",
    "\n",
    "# %%\n",
    "def plot_confidence_distribution(data):\n",
    "    fig = go.Figure()\n",
    "    \n",
    "    fig.add_trace(go.Histogram(\n",
    "        x=data['Prediction'],\n",
    "        marker_color='skyblue',\n",
    "        opacity=0.7,\n",
    "        name='Predictions'\n",
    "    ))\n",
    "    \n",
    "    fig.update_layout(\n",
    "        title='Prediction Distribution',\n",
    "        xaxis_title='Predicted Price Change',\n",
    "        yaxis_title='Count',\n",
    "        bargap=0.1,\n",
    "        height=500\n",
    "    )\n",
    "    \n",
    "    fig.show()\n",
    "\n",
    "plot_confidence_distribution(df)\n",
    "\n",
    "# %% [markdown]\n",
    "# ## 5. Save Visualizations\n",
    "\n",
    "# %%\n",
    "# Save all visualizations as HTML files\n",
    "def save_visualizations():\n",
    "    # Candlestick\n",
    "    fig1 = make_subplots(rows=2, cols=1, shared_xaxes=True)\n",
    "    fig1.add_trace(go.Candlestick(\n",
    "        x=df['Date'],\n",
    "        open=df['Open'],\n",
    "        high=df['High'],\n",
    "        low=df['Low'],\n",
    "        close=df['Close']), row=1, col=1)\n",
    "    fig1.write_html(\"candlestick.html\")\n",
    "    \n",
    "    # Sentiment\n",
    "    fig2 = go.Figure()\n",
    "    fig2.add_trace(go.Scatter(x=df['Date'], y=df['Close']))\n",
    "    fig2.write_html(\"sentiment.html\")\n",
    "    \n",
    "    print(\"Visualizations saved as HTML files\")\n",
    "\n",
    "save_visualizations()"
   ]
  },
  {
   "cell_type": "code",
   "execution_count": 11,
   "id": "9585e98b",
   "metadata": {},
   "outputs": [],
   "source": [
    "import seaborn as sns\n",
    "import matplotlib.pyplot as plt\n",
    "\n",
    "def plot_confidence_heatmap(predictions):\n",
    "    plt.figure(figsize=(12, 6))\n",
    "    sns.heatmap(\n",
    "        pd.DataFrame(predictions)[['confidence', 'predicted_change']],\n",
    "        annot=True,\n",
    "        cmap='RdYlGn',\n",
    "        center=0,\n",
    "        fmt='.2%'\n",
    "    )\n",
    "    plt.title('Prediction Confidence Heatmap')\n",
    "    plt.xticks(rotation=45)\n",
    "    plt.show()"
   ]
  },
  {
   "cell_type": "code",
   "execution_count": 12,
   "id": "73456e09",
   "metadata": {},
   "outputs": [],
   "source": [
    "def plot_feature_importance(model, feature_names):\n",
    "    importance = model.feature_importances_\n",
    "    indices = np.argsort(importance)[::-1]\n",
    "    \n",
    "    plt.figure(figsize=(12, 6))\n",
    "    plt.title(\"Feature Importance\")\n",
    "    plt.bar(range(len(importance)), importance[indices], align=\"center\")\n",
    "    plt.xticks(range(len(importance)), [feature_names[i] for i in indices], rotation=90)\n",
    "    plt.xlim([-1, len(importance)])\n",
    "    plt.tight_layout()\n",
    "    plt.show()"
   ]
  },
  {
   "cell_type": "code",
   "execution_count": 13,
   "id": "e834ad3f",
   "metadata": {},
   "outputs": [],
   "source": [
    "import plotly.express as px\n",
    "\n",
    "def interactive_prediction_timeline(results):\n",
    "    fig = px.scatter(\n",
    "        results,\n",
    "        x='date',\n",
    "        y='actual',\n",
    "        color='prediction',\n",
    "        size='confidence',\n",
    "        hover_data=['predicted_change', 'model'],\n",
    "        title='Actual vs Predicted Prices Over Time'\n",
    "    )\n",
    "    \n",
    "    fig.add_trace(\n",
    "        go.Scatter(\n",
    "            x=results['date'],\n",
    "            y=results['actual'],\n",
    "            mode='lines',\n",
    "            name='Actual Price',\n",
    "            line=dict(color='gray', width=1)\n",
    "        )\n",
    "    )\n",
    "    \n",
    "    fig.update_layout(\n",
    "        hovermode='x unified',\n",
    "        height=600\n",
    "    )\n",
    "    \n",
    "    fig.show()"
   ]
  },
  {
   "cell_type": "code",
   "execution_count": 14,
   "id": "897b6771",
   "metadata": {},
   "outputs": [],
   "source": [
    "def plot_sentiment_analysis(df):\n",
    "    fig = make_subplots(specs=[[{\"secondary_y\": True}]])\n",
    "    \n",
    "    # Price line\n",
    "    fig.add_trace(\n",
    "        go.Scatter(\n",
    "            x=df['Date'],\n",
    "            y=df['Close'],\n",
    "            name='Price',\n",
    "            line=dict(color='blue')\n",
    "        ),\n",
    "        secondary_y=False\n",
    "    )\n",
    "    \n",
    "    # Sentiment bars\n",
    "    fig.add_trace(\n",
    "        go.Bar(\n",
    "            x=df['Date'],\n",
    "            y=df['avg_sentiment'],\n",
    "            name='Sentiment',\n",
    "            marker_color=['green' if x > 0 else 'red' for x in df['avg_sentiment']],\n",
    "            opacity=0.6\n",
    "        ),\n",
    "        secondary_y=True\n",
    "    )\n",
    "    \n",
    "    fig.update_layout(\n",
    "        title='Price vs Social Media Sentiment',\n",
    "        xaxis_title='Date',\n",
    "        height=600\n",
    "    )\n",
    "    \n",
    "    fig.show()"
   ]
  },
  {
   "cell_type": "code",
   "execution_count": 15,
   "id": "466b69af",
   "metadata": {},
   "outputs": [],
   "source": [
    "def plot_error_distribution(actual, predicted):\n",
    "    errors = actual - predicted\n",
    "    plt.figure(figsize=(12, 6))\n",
    "    sns.histplot(errors, kde=True, bins=30)\n",
    "    plt.axvline(x=0, color='r', linestyle='--')\n",
    "    plt.title('Distribution of Prediction Errors')\n",
    "    plt.xlabel('Prediction Error (Actual - Predicted)')\n",
    "    plt.show()"
   ]
  }
 ],
 "metadata": {
  "kernelspec": {
   "display_name": "base",
   "language": "python",
   "name": "python3"
  },
  "language_info": {
   "codemirror_mode": {
    "name": "ipython",
    "version": 3
   },
   "file_extension": ".py",
   "mimetype": "text/x-python",
   "name": "python",
   "nbconvert_exporter": "python",
   "pygments_lexer": "ipython3",
   "version": "3.11.7"
  }
 },
 "nbformat": 4,
 "nbformat_minor": 5
}
